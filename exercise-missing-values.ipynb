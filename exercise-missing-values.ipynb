{
 "cells": [
  {
   "cell_type": "markdown",
   "id": "3f1a695e",
   "metadata": {
    "papermill": {
     "duration": 0.013564,
     "end_time": "2022-06-12T20:07:19.590996",
     "exception": false,
     "start_time": "2022-06-12T20:07:19.577432",
     "status": "completed"
    },
    "tags": []
   },
   "source": [
    "**This notebook is an exercise in the [Intermediate Machine Learning](https://www.kaggle.com/learn/intermediate-machine-learning) course.  You can reference the tutorial at [this link](https://www.kaggle.com/alexisbcook/missing-values).**\n",
    "\n",
    "---\n"
   ]
  },
  {
   "cell_type": "markdown",
   "id": "63e74446",
   "metadata": {
    "papermill": {
     "duration": 0.009797,
     "end_time": "2022-06-12T20:07:19.611402",
     "exception": false,
     "start_time": "2022-06-12T20:07:19.601605",
     "status": "completed"
    },
    "tags": []
   },
   "source": [
    "Now it's your turn to test your new knowledge of **missing values** handling. You'll probably find it makes a big difference.\n",
    "\n",
    "# Setup\n",
    "\n",
    "The questions will give you feedback on your work. Run the following cell to set up the feedback system."
   ]
  },
  {
   "cell_type": "code",
   "execution_count": 1,
   "id": "1f6b37df",
   "metadata": {
    "execution": {
     "iopub.execute_input": "2022-06-12T20:07:19.634701Z",
     "iopub.status.busy": "2022-06-12T20:07:19.633685Z",
     "iopub.status.idle": "2022-06-12T20:07:19.693807Z",
     "shell.execute_reply": "2022-06-12T20:07:19.692837Z"
    },
    "papermill": {
     "duration": 0.075419,
     "end_time": "2022-06-12T20:07:19.696945",
     "exception": false,
     "start_time": "2022-06-12T20:07:19.621526",
     "status": "completed"
    },
    "tags": []
   },
   "outputs": [
    {
     "name": "stdout",
     "output_type": "stream",
     "text": [
      "Setup Complete\n"
     ]
    }
   ],
   "source": [
    "# Set up code checking\n",
    "import os\n",
    "if not os.path.exists(\"../input/train.csv\"):\n",
    "    os.symlink(\"../input/home-data-for-ml-course/train.csv\", \"../input/train.csv\")  \n",
    "    os.symlink(\"../input/home-data-for-ml-course/test.csv\", \"../input/test.csv\") \n",
    "from learntools.core import binder\n",
    "binder.bind(globals())\n",
    "from learntools.ml_intermediate.ex2 import *\n",
    "print(\"Setup Complete\")"
   ]
  },
  {
   "cell_type": "markdown",
   "id": "0acfc5c3",
   "metadata": {
    "papermill": {
     "duration": 0.009624,
     "end_time": "2022-06-12T20:07:19.716969",
     "exception": false,
     "start_time": "2022-06-12T20:07:19.707345",
     "status": "completed"
    },
    "tags": []
   },
   "source": [
    "In this exercise, you will work with data from the [Housing Prices Competition for Kaggle Learn Users](https://www.kaggle.com/c/home-data-for-ml-course). \n",
    "\n",
    "![Ames Housing dataset image](https://i.imgur.com/lTJVG4e.png)\n",
    "\n",
    "Run the next code cell without changes to load the training and validation sets in `X_train`, `X_valid`, `y_train`, and `y_valid`.  The test set is loaded in `X_test`."
   ]
  },
  {
   "cell_type": "code",
   "execution_count": 2,
   "id": "72a0e8e3",
   "metadata": {
    "execution": {
     "iopub.execute_input": "2022-06-12T20:07:19.739744Z",
     "iopub.status.busy": "2022-06-12T20:07:19.738898Z",
     "iopub.status.idle": "2022-06-12T20:07:21.270285Z",
     "shell.execute_reply": "2022-06-12T20:07:21.269102Z"
    },
    "papermill": {
     "duration": 1.545979,
     "end_time": "2022-06-12T20:07:21.273172",
     "exception": false,
     "start_time": "2022-06-12T20:07:19.727193",
     "status": "completed"
    },
    "tags": []
   },
   "outputs": [],
   "source": [
    "import pandas as pd\n",
    "from sklearn.model_selection import train_test_split\n",
    "\n",
    "# Read the data\n",
    "X_full = pd.read_csv('../input/train.csv', index_col='Id')\n",
    "X_test_full = pd.read_csv('../input/test.csv', index_col='Id')\n",
    "\n",
    "# Remove rows with missing target, separate target from predictors\n",
    "X_full.dropna(axis=0, subset=['SalePrice'], inplace=True)\n",
    "y = X_full.SalePrice\n",
    "X_full.drop(['SalePrice'], axis=1, inplace=True)\n",
    "\n",
    "# To keep things simple, we'll use only numerical predictors\n",
    "X = X_full.select_dtypes(exclude=['object'])\n",
    "X_test = X_test_full.select_dtypes(exclude=['object'])\n",
    "\n",
    "# Break off validation set from training data\n",
    "X_train, X_valid, y_train, y_valid = train_test_split(X, y, train_size=0.8, test_size=0.2,\n",
    "                                                      random_state=0)"
   ]
  },
  {
   "cell_type": "markdown",
   "id": "04e22985",
   "metadata": {
    "papermill": {
     "duration": 0.00986,
     "end_time": "2022-06-12T20:07:21.293423",
     "exception": false,
     "start_time": "2022-06-12T20:07:21.283563",
     "status": "completed"
    },
    "tags": []
   },
   "source": [
    "Use the next code cell to print the first five rows of the data."
   ]
  },
  {
   "cell_type": "code",
   "execution_count": 3,
   "id": "2ca50d8f",
   "metadata": {
    "execution": {
     "iopub.execute_input": "2022-06-12T20:07:21.316024Z",
     "iopub.status.busy": "2022-06-12T20:07:21.315537Z",
     "iopub.status.idle": "2022-06-12T20:07:21.347820Z",
     "shell.execute_reply": "2022-06-12T20:07:21.346700Z"
    },
    "papermill": {
     "duration": 0.046859,
     "end_time": "2022-06-12T20:07:21.350813",
     "exception": false,
     "start_time": "2022-06-12T20:07:21.303954",
     "status": "completed"
    },
    "tags": []
   },
   "outputs": [
    {
     "data": {
      "text/html": [
       "<div>\n",
       "<style scoped>\n",
       "    .dataframe tbody tr th:only-of-type {\n",
       "        vertical-align: middle;\n",
       "    }\n",
       "\n",
       "    .dataframe tbody tr th {\n",
       "        vertical-align: top;\n",
       "    }\n",
       "\n",
       "    .dataframe thead th {\n",
       "        text-align: right;\n",
       "    }\n",
       "</style>\n",
       "<table border=\"1\" class=\"dataframe\">\n",
       "  <thead>\n",
       "    <tr style=\"text-align: right;\">\n",
       "      <th></th>\n",
       "      <th>MSSubClass</th>\n",
       "      <th>LotFrontage</th>\n",
       "      <th>LotArea</th>\n",
       "      <th>OverallQual</th>\n",
       "      <th>OverallCond</th>\n",
       "      <th>YearBuilt</th>\n",
       "      <th>YearRemodAdd</th>\n",
       "      <th>MasVnrArea</th>\n",
       "      <th>BsmtFinSF1</th>\n",
       "      <th>BsmtFinSF2</th>\n",
       "      <th>...</th>\n",
       "      <th>GarageArea</th>\n",
       "      <th>WoodDeckSF</th>\n",
       "      <th>OpenPorchSF</th>\n",
       "      <th>EnclosedPorch</th>\n",
       "      <th>3SsnPorch</th>\n",
       "      <th>ScreenPorch</th>\n",
       "      <th>PoolArea</th>\n",
       "      <th>MiscVal</th>\n",
       "      <th>MoSold</th>\n",
       "      <th>YrSold</th>\n",
       "    </tr>\n",
       "    <tr>\n",
       "      <th>Id</th>\n",
       "      <th></th>\n",
       "      <th></th>\n",
       "      <th></th>\n",
       "      <th></th>\n",
       "      <th></th>\n",
       "      <th></th>\n",
       "      <th></th>\n",
       "      <th></th>\n",
       "      <th></th>\n",
       "      <th></th>\n",
       "      <th></th>\n",
       "      <th></th>\n",
       "      <th></th>\n",
       "      <th></th>\n",
       "      <th></th>\n",
       "      <th></th>\n",
       "      <th></th>\n",
       "      <th></th>\n",
       "      <th></th>\n",
       "      <th></th>\n",
       "      <th></th>\n",
       "    </tr>\n",
       "  </thead>\n",
       "  <tbody>\n",
       "    <tr>\n",
       "      <th>619</th>\n",
       "      <td>20</td>\n",
       "      <td>90.0</td>\n",
       "      <td>11694</td>\n",
       "      <td>9</td>\n",
       "      <td>5</td>\n",
       "      <td>2007</td>\n",
       "      <td>2007</td>\n",
       "      <td>452.0</td>\n",
       "      <td>48</td>\n",
       "      <td>0</td>\n",
       "      <td>...</td>\n",
       "      <td>774</td>\n",
       "      <td>0</td>\n",
       "      <td>108</td>\n",
       "      <td>0</td>\n",
       "      <td>0</td>\n",
       "      <td>260</td>\n",
       "      <td>0</td>\n",
       "      <td>0</td>\n",
       "      <td>7</td>\n",
       "      <td>2007</td>\n",
       "    </tr>\n",
       "    <tr>\n",
       "      <th>871</th>\n",
       "      <td>20</td>\n",
       "      <td>60.0</td>\n",
       "      <td>6600</td>\n",
       "      <td>5</td>\n",
       "      <td>5</td>\n",
       "      <td>1962</td>\n",
       "      <td>1962</td>\n",
       "      <td>0.0</td>\n",
       "      <td>0</td>\n",
       "      <td>0</td>\n",
       "      <td>...</td>\n",
       "      <td>308</td>\n",
       "      <td>0</td>\n",
       "      <td>0</td>\n",
       "      <td>0</td>\n",
       "      <td>0</td>\n",
       "      <td>0</td>\n",
       "      <td>0</td>\n",
       "      <td>0</td>\n",
       "      <td>8</td>\n",
       "      <td>2009</td>\n",
       "    </tr>\n",
       "    <tr>\n",
       "      <th>93</th>\n",
       "      <td>30</td>\n",
       "      <td>80.0</td>\n",
       "      <td>13360</td>\n",
       "      <td>5</td>\n",
       "      <td>7</td>\n",
       "      <td>1921</td>\n",
       "      <td>2006</td>\n",
       "      <td>0.0</td>\n",
       "      <td>713</td>\n",
       "      <td>0</td>\n",
       "      <td>...</td>\n",
       "      <td>432</td>\n",
       "      <td>0</td>\n",
       "      <td>0</td>\n",
       "      <td>44</td>\n",
       "      <td>0</td>\n",
       "      <td>0</td>\n",
       "      <td>0</td>\n",
       "      <td>0</td>\n",
       "      <td>8</td>\n",
       "      <td>2009</td>\n",
       "    </tr>\n",
       "    <tr>\n",
       "      <th>818</th>\n",
       "      <td>20</td>\n",
       "      <td>NaN</td>\n",
       "      <td>13265</td>\n",
       "      <td>8</td>\n",
       "      <td>5</td>\n",
       "      <td>2002</td>\n",
       "      <td>2002</td>\n",
       "      <td>148.0</td>\n",
       "      <td>1218</td>\n",
       "      <td>0</td>\n",
       "      <td>...</td>\n",
       "      <td>857</td>\n",
       "      <td>150</td>\n",
       "      <td>59</td>\n",
       "      <td>0</td>\n",
       "      <td>0</td>\n",
       "      <td>0</td>\n",
       "      <td>0</td>\n",
       "      <td>0</td>\n",
       "      <td>7</td>\n",
       "      <td>2008</td>\n",
       "    </tr>\n",
       "    <tr>\n",
       "      <th>303</th>\n",
       "      <td>20</td>\n",
       "      <td>118.0</td>\n",
       "      <td>13704</td>\n",
       "      <td>7</td>\n",
       "      <td>5</td>\n",
       "      <td>2001</td>\n",
       "      <td>2002</td>\n",
       "      <td>150.0</td>\n",
       "      <td>0</td>\n",
       "      <td>0</td>\n",
       "      <td>...</td>\n",
       "      <td>843</td>\n",
       "      <td>468</td>\n",
       "      <td>81</td>\n",
       "      <td>0</td>\n",
       "      <td>0</td>\n",
       "      <td>0</td>\n",
       "      <td>0</td>\n",
       "      <td>0</td>\n",
       "      <td>1</td>\n",
       "      <td>2006</td>\n",
       "    </tr>\n",
       "  </tbody>\n",
       "</table>\n",
       "<p>5 rows × 36 columns</p>\n",
       "</div>"
      ],
      "text/plain": [
       "     MSSubClass  LotFrontage  LotArea  OverallQual  OverallCond  YearBuilt  \\\n",
       "Id                                                                           \n",
       "619          20         90.0    11694            9            5       2007   \n",
       "871          20         60.0     6600            5            5       1962   \n",
       "93           30         80.0    13360            5            7       1921   \n",
       "818          20          NaN    13265            8            5       2002   \n",
       "303          20        118.0    13704            7            5       2001   \n",
       "\n",
       "     YearRemodAdd  MasVnrArea  BsmtFinSF1  BsmtFinSF2  ...  GarageArea  \\\n",
       "Id                                                     ...               \n",
       "619          2007       452.0          48           0  ...         774   \n",
       "871          1962         0.0           0           0  ...         308   \n",
       "93           2006         0.0         713           0  ...         432   \n",
       "818          2002       148.0        1218           0  ...         857   \n",
       "303          2002       150.0           0           0  ...         843   \n",
       "\n",
       "     WoodDeckSF  OpenPorchSF  EnclosedPorch  3SsnPorch  ScreenPorch  PoolArea  \\\n",
       "Id                                                                              \n",
       "619           0          108              0          0          260         0   \n",
       "871           0            0              0          0            0         0   \n",
       "93            0            0             44          0            0         0   \n",
       "818         150           59              0          0            0         0   \n",
       "303         468           81              0          0            0         0   \n",
       "\n",
       "     MiscVal  MoSold  YrSold  \n",
       "Id                            \n",
       "619        0       7    2007  \n",
       "871        0       8    2009  \n",
       "93         0       8    2009  \n",
       "818        0       7    2008  \n",
       "303        0       1    2006  \n",
       "\n",
       "[5 rows x 36 columns]"
      ]
     },
     "execution_count": 3,
     "metadata": {},
     "output_type": "execute_result"
    }
   ],
   "source": [
    "X_train.head()"
   ]
  },
  {
   "cell_type": "markdown",
   "id": "df4127e0",
   "metadata": {
    "papermill": {
     "duration": 0.010411,
     "end_time": "2022-06-12T20:07:21.372064",
     "exception": false,
     "start_time": "2022-06-12T20:07:21.361653",
     "status": "completed"
    },
    "tags": []
   },
   "source": [
    "You can already see a few missing values in the first several rows.  In the next step, you'll obtain a more comprehensive understanding of the missing values in the dataset.\n",
    "\n",
    "# Step 1: Preliminary investigation\n",
    "\n",
    "Run the code cell below without changes."
   ]
  },
  {
   "cell_type": "code",
   "execution_count": 4,
   "id": "9cdf02b4",
   "metadata": {
    "execution": {
     "iopub.execute_input": "2022-06-12T20:07:21.395631Z",
     "iopub.status.busy": "2022-06-12T20:07:21.394749Z",
     "iopub.status.idle": "2022-06-12T20:07:21.404051Z",
     "shell.execute_reply": "2022-06-12T20:07:21.403097Z"
    },
    "papermill": {
     "duration": 0.023645,
     "end_time": "2022-06-12T20:07:21.406236",
     "exception": false,
     "start_time": "2022-06-12T20:07:21.382591",
     "status": "completed"
    },
    "tags": []
   },
   "outputs": [
    {
     "name": "stdout",
     "output_type": "stream",
     "text": [
      "(1168, 36)\n",
      "LotFrontage    212\n",
      "MasVnrArea       6\n",
      "GarageYrBlt     58\n",
      "dtype: int64\n"
     ]
    }
   ],
   "source": [
    "# Shape of training data (num_rows, num_columns)\n",
    "print(X_train.shape)\n",
    "\n",
    "# Number of missing values in each column of training data\n",
    "missing_val_count_by_column = (X_train.isnull().sum())\n",
    "print(missing_val_count_by_column[missing_val_count_by_column > 0])"
   ]
  },
  {
   "cell_type": "markdown",
   "id": "9f6b7b17",
   "metadata": {
    "papermill": {
     "duration": 0.010264,
     "end_time": "2022-06-12T20:07:21.427309",
     "exception": false,
     "start_time": "2022-06-12T20:07:21.417045",
     "status": "completed"
    },
    "tags": []
   },
   "source": [
    "### Part A\n",
    "\n",
    "Use the above output to answer the questions below."
   ]
  },
  {
   "cell_type": "code",
   "execution_count": 5,
   "id": "62e0e281",
   "metadata": {
    "execution": {
     "iopub.execute_input": "2022-06-12T20:07:21.451062Z",
     "iopub.status.busy": "2022-06-12T20:07:21.450303Z",
     "iopub.status.idle": "2022-06-12T20:07:21.465858Z",
     "shell.execute_reply": "2022-06-12T20:07:21.465094Z"
    },
    "papermill": {
     "duration": 0.029654,
     "end_time": "2022-06-12T20:07:21.467750",
     "exception": false,
     "start_time": "2022-06-12T20:07:21.438096",
     "status": "completed"
    },
    "tags": []
   },
   "outputs": [
    {
     "data": {
      "application/javascript": [
       "parent.postMessage({\"jupyterEvent\": \"custom.exercise_interaction\", \"data\": {\"outcomeType\": 1, \"valueTowardsCompletion\": 1.0, \"interactionType\": 1, \"questionType\": 1, \"questionId\": \"1.1_InvestigateEquality\", \"learnToolsVersion\": \"0.3.4\", \"failureMessage\": \"\", \"exceptionClass\": \"\", \"trace\": \"\"}}, \"*\")"
      ],
      "text/plain": [
       "<IPython.core.display.Javascript object>"
      ]
     },
     "metadata": {},
     "output_type": "display_data"
    },
    {
     "data": {
      "text/markdown": [
       "<span style=\"color:#33cc33\">Correct</span>"
      ],
      "text/plain": [
       "Correct"
      ]
     },
     "metadata": {},
     "output_type": "display_data"
    }
   ],
   "source": [
    "# Fill in the line below: How many rows are in the training data?\n",
    "num_rows = X_train.shape[0]\n",
    "\n",
    "# Fill in the line below: How many columns in the training data\n",
    "# have missing values?\n",
    "list_cols_with_missing = [len(col) for col in X_train.columns if X_train[col].isnull().any()]\n",
    "num_cols_with_missing = len(list_cols_with_missing)\n",
    "\n",
    "# Fill in the line below: How many missing entries are contained in \n",
    "# all of the training data?\n",
    "tot_missing = sum(missing_val_count_by_column)\n",
    "\n",
    "# Check your answers\n",
    "step_1.a.check()"
   ]
  },
  {
   "cell_type": "code",
   "execution_count": 6,
   "id": "da699d01",
   "metadata": {
    "execution": {
     "iopub.execute_input": "2022-06-12T20:07:21.492303Z",
     "iopub.status.busy": "2022-06-12T20:07:21.491621Z",
     "iopub.status.idle": "2022-06-12T20:07:21.495472Z",
     "shell.execute_reply": "2022-06-12T20:07:21.494409Z"
    },
    "papermill": {
     "duration": 0.018688,
     "end_time": "2022-06-12T20:07:21.497499",
     "exception": false,
     "start_time": "2022-06-12T20:07:21.478811",
     "status": "completed"
    },
    "tags": []
   },
   "outputs": [],
   "source": [
    "# Lines below will give you a hint or solution code\n",
    "#step_1.a.hint()\n",
    "#step_1.a.solution()"
   ]
  },
  {
   "cell_type": "markdown",
   "id": "6585a60f",
   "metadata": {
    "papermill": {
     "duration": 0.010353,
     "end_time": "2022-06-12T20:07:21.518837",
     "exception": false,
     "start_time": "2022-06-12T20:07:21.508484",
     "status": "completed"
    },
    "tags": []
   },
   "source": [
    "### Part B\n",
    "Considering your answers above, what do you think is likely the best approach to dealing with the missing values?"
   ]
  },
  {
   "cell_type": "code",
   "execution_count": 7,
   "id": "b9f50275",
   "metadata": {
    "execution": {
     "iopub.execute_input": "2022-06-12T20:07:21.542919Z",
     "iopub.status.busy": "2022-06-12T20:07:21.542258Z",
     "iopub.status.idle": "2022-06-12T20:07:21.549655Z",
     "shell.execute_reply": "2022-06-12T20:07:21.548779Z"
    },
    "papermill": {
     "duration": 0.022061,
     "end_time": "2022-06-12T20:07:21.551667",
     "exception": false,
     "start_time": "2022-06-12T20:07:21.529606",
     "status": "completed"
    },
    "tags": []
   },
   "outputs": [
    {
     "data": {
      "application/javascript": [
       "parent.postMessage({\"jupyterEvent\": \"custom.exercise_interaction\", \"data\": {\"outcomeType\": 1, \"valueTowardsCompletion\": 1.0, \"interactionType\": 1, \"questionType\": 4, \"questionId\": \"1.2_InvestigateThought\", \"learnToolsVersion\": \"0.3.4\", \"failureMessage\": \"\", \"exceptionClass\": \"\", \"trace\": \"\"}}, \"*\")"
      ],
      "text/plain": [
       "<IPython.core.display.Javascript object>"
      ]
     },
     "metadata": {},
     "output_type": "display_data"
    },
    {
     "data": {
      "text/markdown": [
       "<span style=\"color:#33cc33\">Correct:</span> \n",
       "\n",
       "Since there are relatively few missing entries in the data (the column with the greatest percentage of missing values is missing less than 20% of its entries), we can expect that dropping columns is unlikely to yield good results.  This is because we'd be throwing away a lot of valuable data, and so imputation will likely perform better."
      ],
      "text/plain": [
       "Correct: \n",
       "\n",
       "Since there are relatively few missing entries in the data (the column with the greatest percentage of missing values is missing less than 20% of its entries), we can expect that dropping columns is unlikely to yield good results.  This is because we'd be throwing away a lot of valuable data, and so imputation will likely perform better."
      ]
     },
     "metadata": {},
     "output_type": "display_data"
    }
   ],
   "source": [
    "# Check your answer (Run this code cell to receive credit!)\n",
    "step_1.b.check()"
   ]
  },
  {
   "cell_type": "code",
   "execution_count": 8,
   "id": "ef4ca4de",
   "metadata": {
    "execution": {
     "iopub.execute_input": "2022-06-12T20:07:21.576238Z",
     "iopub.status.busy": "2022-06-12T20:07:21.575560Z",
     "iopub.status.idle": "2022-06-12T20:07:21.579552Z",
     "shell.execute_reply": "2022-06-12T20:07:21.578809Z"
    },
    "papermill": {
     "duration": 0.018464,
     "end_time": "2022-06-12T20:07:21.581577",
     "exception": false,
     "start_time": "2022-06-12T20:07:21.563113",
     "status": "completed"
    },
    "tags": []
   },
   "outputs": [],
   "source": [
    "#step_1.b.hint()"
   ]
  },
  {
   "cell_type": "markdown",
   "id": "e4c609a4",
   "metadata": {
    "papermill": {
     "duration": 0.010887,
     "end_time": "2022-06-12T20:07:21.603794",
     "exception": false,
     "start_time": "2022-06-12T20:07:21.592907",
     "status": "completed"
    },
    "tags": []
   },
   "source": [
    "To compare different approaches to dealing with missing values, you'll use the same `score_dataset()` function from the tutorial.  This function reports the [mean absolute error](https://en.wikipedia.org/wiki/Mean_absolute_error) (MAE) from a random forest model."
   ]
  },
  {
   "cell_type": "code",
   "execution_count": 9,
   "id": "56281fdf",
   "metadata": {
    "execution": {
     "iopub.execute_input": "2022-06-12T20:07:21.628112Z",
     "iopub.status.busy": "2022-06-12T20:07:21.627480Z",
     "iopub.status.idle": "2022-06-12T20:07:21.902548Z",
     "shell.execute_reply": "2022-06-12T20:07:21.901422Z"
    },
    "papermill": {
     "duration": 0.290553,
     "end_time": "2022-06-12T20:07:21.905594",
     "exception": false,
     "start_time": "2022-06-12T20:07:21.615041",
     "status": "completed"
    },
    "tags": []
   },
   "outputs": [],
   "source": [
    "from sklearn.ensemble import RandomForestRegressor\n",
    "from sklearn.metrics import mean_absolute_error\n",
    "\n",
    "# Function for comparing different approaches\n",
    "def score_dataset(X_train, X_valid, y_train, y_valid):\n",
    "    model = RandomForestRegressor(n_estimators=100, random_state=0)\n",
    "    model.fit(X_train, y_train)\n",
    "    preds = model.predict(X_valid)\n",
    "    return mean_absolute_error(y_valid, preds)"
   ]
  },
  {
   "cell_type": "markdown",
   "id": "1bb950a1",
   "metadata": {
    "papermill": {
     "duration": 0.011588,
     "end_time": "2022-06-12T20:07:21.928785",
     "exception": false,
     "start_time": "2022-06-12T20:07:21.917197",
     "status": "completed"
    },
    "tags": []
   },
   "source": [
    "# Step 2: Drop columns with missing values\n",
    "\n",
    "In this step, you'll preprocess the data in `X_train` and `X_valid` to remove columns with missing values.  Set the preprocessed DataFrames to `reduced_X_train` and `reduced_X_valid`, respectively.  "
   ]
  },
  {
   "cell_type": "code",
   "execution_count": 10,
   "id": "9879309b",
   "metadata": {
    "execution": {
     "iopub.execute_input": "2022-06-12T20:07:21.954737Z",
     "iopub.status.busy": "2022-06-12T20:07:21.953861Z",
     "iopub.status.idle": "2022-06-12T20:07:21.985312Z",
     "shell.execute_reply": "2022-06-12T20:07:21.984348Z"
    },
    "papermill": {
     "duration": 0.04706,
     "end_time": "2022-06-12T20:07:21.987624",
     "exception": false,
     "start_time": "2022-06-12T20:07:21.940564",
     "status": "completed"
    },
    "tags": []
   },
   "outputs": [
    {
     "data": {
      "application/javascript": [
       "parent.postMessage({\"jupyterEvent\": \"custom.exercise_interaction\", \"data\": {\"outcomeType\": 1, \"valueTowardsCompletion\": 1.0, \"interactionType\": 1, \"questionType\": 2, \"questionId\": \"2_DropMissing\", \"learnToolsVersion\": \"0.3.4\", \"failureMessage\": \"\", \"exceptionClass\": \"\", \"trace\": \"\"}}, \"*\")"
      ],
      "text/plain": [
       "<IPython.core.display.Javascript object>"
      ]
     },
     "metadata": {},
     "output_type": "display_data"
    },
    {
     "data": {
      "text/markdown": [
       "<span style=\"color:#33cc33\">Correct</span>"
      ],
      "text/plain": [
       "Correct"
      ]
     },
     "metadata": {},
     "output_type": "display_data"
    }
   ],
   "source": [
    "# Fill in the line below: get names of columns with missing values\n",
    "cols_with_missing = [col for col in X_train.columns if X_train[col].isnull().any()] # Your code here\n",
    "\n",
    "# Fill in the lines below: drop columns in training and validation data\n",
    "reduced_X_train = X_train.drop(cols_with_missing, axis=1)\n",
    "reduced_X_valid = X_valid.drop(cols_with_missing, axis=1)\n",
    "\n",
    "# Check your answers\n",
    "step_2.check()"
   ]
  },
  {
   "cell_type": "code",
   "execution_count": 11,
   "id": "049d266c",
   "metadata": {
    "execution": {
     "iopub.execute_input": "2022-06-12T20:07:22.014871Z",
     "iopub.status.busy": "2022-06-12T20:07:22.014423Z",
     "iopub.status.idle": "2022-06-12T20:07:22.018606Z",
     "shell.execute_reply": "2022-06-12T20:07:22.017741Z"
    },
    "papermill": {
     "duration": 0.020806,
     "end_time": "2022-06-12T20:07:22.020583",
     "exception": false,
     "start_time": "2022-06-12T20:07:21.999777",
     "status": "completed"
    },
    "tags": []
   },
   "outputs": [],
   "source": [
    "# Lines below will give you a hint or solution code\n",
    "#step_2.hint()\n",
    "#step_2.solution()"
   ]
  },
  {
   "cell_type": "markdown",
   "id": "0a46dd57",
   "metadata": {
    "papermill": {
     "duration": 0.011286,
     "end_time": "2022-06-12T20:07:22.043730",
     "exception": false,
     "start_time": "2022-06-12T20:07:22.032444",
     "status": "completed"
    },
    "tags": []
   },
   "source": [
    "Run the next code cell without changes to obtain the MAE for this approach."
   ]
  },
  {
   "cell_type": "code",
   "execution_count": 12,
   "id": "cfb12205",
   "metadata": {
    "execution": {
     "iopub.execute_input": "2022-06-12T20:07:22.069268Z",
     "iopub.status.busy": "2022-06-12T20:07:22.068849Z",
     "iopub.status.idle": "2022-06-12T20:07:23.228509Z",
     "shell.execute_reply": "2022-06-12T20:07:23.227114Z"
    },
    "papermill": {
     "duration": 1.175771,
     "end_time": "2022-06-12T20:07:23.231326",
     "exception": false,
     "start_time": "2022-06-12T20:07:22.055555",
     "status": "completed"
    },
    "tags": []
   },
   "outputs": [
    {
     "name": "stdout",
     "output_type": "stream",
     "text": [
      "MAE (Drop columns with missing values):\n",
      "17837.82570776256\n"
     ]
    }
   ],
   "source": [
    "print(\"MAE (Drop columns with missing values):\")\n",
    "print(score_dataset(reduced_X_train, reduced_X_valid, y_train, y_valid))"
   ]
  },
  {
   "cell_type": "markdown",
   "id": "538a88ef",
   "metadata": {
    "papermill": {
     "duration": 0.011472,
     "end_time": "2022-06-12T20:07:23.254921",
     "exception": false,
     "start_time": "2022-06-12T20:07:23.243449",
     "status": "completed"
    },
    "tags": []
   },
   "source": [
    "# Step 3: Imputation\n",
    "\n",
    "### Part A\n",
    "\n",
    "Use the next code cell to impute missing values with the mean value along each column.  Set the preprocessed DataFrames to `imputed_X_train` and `imputed_X_valid`.  Make sure that the column names match those in `X_train` and `X_valid`."
   ]
  },
  {
   "cell_type": "code",
   "execution_count": 13,
   "id": "e8a15e93",
   "metadata": {
    "execution": {
     "iopub.execute_input": "2022-06-12T20:07:23.280921Z",
     "iopub.status.busy": "2022-06-12T20:07:23.280484Z",
     "iopub.status.idle": "2022-06-12T20:07:23.316902Z",
     "shell.execute_reply": "2022-06-12T20:07:23.315674Z"
    },
    "papermill": {
     "duration": 0.052244,
     "end_time": "2022-06-12T20:07:23.318947",
     "exception": false,
     "start_time": "2022-06-12T20:07:23.266703",
     "status": "completed"
    },
    "tags": []
   },
   "outputs": [
    {
     "data": {
      "application/javascript": [
       "parent.postMessage({\"jupyterEvent\": \"custom.exercise_interaction\", \"data\": {\"outcomeType\": 1, \"valueTowardsCompletion\": 1.0, \"interactionType\": 1, \"questionType\": 2, \"questionId\": \"3.1_ImputeCode\", \"learnToolsVersion\": \"0.3.4\", \"failureMessage\": \"\", \"exceptionClass\": \"\", \"trace\": \"\"}}, \"*\")"
      ],
      "text/plain": [
       "<IPython.core.display.Javascript object>"
      ]
     },
     "metadata": {},
     "output_type": "display_data"
    },
    {
     "data": {
      "text/markdown": [
       "<span style=\"color:#33cc33\">Correct</span>"
      ],
      "text/plain": [
       "Correct"
      ]
     },
     "metadata": {},
     "output_type": "display_data"
    }
   ],
   "source": [
    "from sklearn.impute import SimpleImputer\n",
    "\n",
    "# Fill in the lines below: imputation\n",
    "my_imputer = SimpleImputer() # Your code here\n",
    "imputed_X_train = pd.DataFrame(my_imputer.fit_transform(X_train))\n",
    "imputed_X_valid = pd.DataFrame(my_imputer.transform(X_valid))\n",
    "\n",
    "# Fill in the lines below: imputation removed column names; put them back\n",
    "imputed_X_train.columns = X_train.columns\n",
    "imputed_X_valid.columns = X_valid.columns\n",
    "\n",
    "# Check your answers\n",
    "step_3.a.check()"
   ]
  },
  {
   "cell_type": "code",
   "execution_count": 14,
   "id": "4b613b9e",
   "metadata": {
    "execution": {
     "iopub.execute_input": "2022-06-12T20:07:23.345053Z",
     "iopub.status.busy": "2022-06-12T20:07:23.344360Z",
     "iopub.status.idle": "2022-06-12T20:07:23.349899Z",
     "shell.execute_reply": "2022-06-12T20:07:23.348787Z"
    },
    "papermill": {
     "duration": 0.02148,
     "end_time": "2022-06-12T20:07:23.352242",
     "exception": false,
     "start_time": "2022-06-12T20:07:23.330762",
     "status": "completed"
    },
    "tags": []
   },
   "outputs": [],
   "source": [
    "# Lines below will give you a hint or solution code\n",
    "#step_3.a.hint()\n",
    "#step_3.a.solution()"
   ]
  },
  {
   "cell_type": "markdown",
   "id": "d89f2f1a",
   "metadata": {
    "papermill": {
     "duration": 0.011825,
     "end_time": "2022-06-12T20:07:23.376392",
     "exception": false,
     "start_time": "2022-06-12T20:07:23.364567",
     "status": "completed"
    },
    "tags": []
   },
   "source": [
    "Run the next code cell without changes to obtain the MAE for this approach."
   ]
  },
  {
   "cell_type": "code",
   "execution_count": 15,
   "id": "cf49e121",
   "metadata": {
    "execution": {
     "iopub.execute_input": "2022-06-12T20:07:23.403083Z",
     "iopub.status.busy": "2022-06-12T20:07:23.401834Z",
     "iopub.status.idle": "2022-06-12T20:07:24.675883Z",
     "shell.execute_reply": "2022-06-12T20:07:24.674550Z"
    },
    "papermill": {
     "duration": 1.289871,
     "end_time": "2022-06-12T20:07:24.678552",
     "exception": false,
     "start_time": "2022-06-12T20:07:23.388681",
     "status": "completed"
    },
    "tags": []
   },
   "outputs": [
    {
     "name": "stdout",
     "output_type": "stream",
     "text": [
      "MAE (Imputation):\n",
      "18062.894611872147\n"
     ]
    }
   ],
   "source": [
    "print(\"MAE (Imputation):\")\n",
    "print(score_dataset(imputed_X_train, imputed_X_valid, y_train, y_valid))"
   ]
  },
  {
   "cell_type": "markdown",
   "id": "af7f7853",
   "metadata": {
    "papermill": {
     "duration": 0.013155,
     "end_time": "2022-06-12T20:07:24.705642",
     "exception": false,
     "start_time": "2022-06-12T20:07:24.692487",
     "status": "completed"
    },
    "tags": []
   },
   "source": [
    "### Part B\n",
    "\n",
    "Compare the MAE from each approach.  Does anything surprise you about the results?  Why do you think one approach performed better than the other?"
   ]
  },
  {
   "cell_type": "code",
   "execution_count": 16,
   "id": "dab2dfcc",
   "metadata": {
    "execution": {
     "iopub.execute_input": "2022-06-12T20:07:24.733128Z",
     "iopub.status.busy": "2022-06-12T20:07:24.732660Z",
     "iopub.status.idle": "2022-06-12T20:07:24.740245Z",
     "shell.execute_reply": "2022-06-12T20:07:24.739492Z"
    },
    "papermill": {
     "duration": 0.023376,
     "end_time": "2022-06-12T20:07:24.742181",
     "exception": false,
     "start_time": "2022-06-12T20:07:24.718805",
     "status": "completed"
    },
    "tags": []
   },
   "outputs": [
    {
     "data": {
      "application/javascript": [
       "parent.postMessage({\"jupyterEvent\": \"custom.exercise_interaction\", \"data\": {\"outcomeType\": 1, \"valueTowardsCompletion\": 1.0, \"interactionType\": 1, \"questionType\": 4, \"questionId\": \"3.2_ImputeThought\", \"learnToolsVersion\": \"0.3.4\", \"failureMessage\": \"\", \"exceptionClass\": \"\", \"trace\": \"\"}}, \"*\")"
      ],
      "text/plain": [
       "<IPython.core.display.Javascript object>"
      ]
     },
     "metadata": {},
     "output_type": "display_data"
    },
    {
     "data": {
      "text/markdown": [
       "<span style=\"color:#33cc33\">Correct:</span> \n",
       "\n",
       "Given that thre are so few missing values in the dataset, we'd expect imputation to perform better than dropping columns entirely.  However, we see that dropping columns performs slightly better!  While this can probably partially be attributed to noise in the dataset, another potential explanation is that the imputation method is not a great match to this dataset.  That is, maybe instead of filling in the mean value, it makes more sense to set every missing value to a value of 0, to fill in the most frequently encountered value, or to use some other method.  For instance, consider the `GarageYrBlt` column (which indicates the year that the garage was built).  It's likely that in some cases, a missing value could indicate a house that does not have a garage.  Does it make more sense to fill in the median value along each column in this case?  Or could we get better results by filling in the minimum value along each column?  It's not quite clear what's best in this case, but perhaps we can rule out some options immediately - for instance, setting missing values in this column to 0 is likely to yield horrible results!"
      ],
      "text/plain": [
       "Correct: \n",
       "\n",
       "Given that thre are so few missing values in the dataset, we'd expect imputation to perform better than dropping columns entirely.  However, we see that dropping columns performs slightly better!  While this can probably partially be attributed to noise in the dataset, another potential explanation is that the imputation method is not a great match to this dataset.  That is, maybe instead of filling in the mean value, it makes more sense to set every missing value to a value of 0, to fill in the most frequently encountered value, or to use some other method.  For instance, consider the `GarageYrBlt` column (which indicates the year that the garage was built).  It's likely that in some cases, a missing value could indicate a house that does not have a garage.  Does it make more sense to fill in the median value along each column in this case?  Or could we get better results by filling in the minimum value along each column?  It's not quite clear what's best in this case, but perhaps we can rule out some options immediately - for instance, setting missing values in this column to 0 is likely to yield horrible results!"
      ]
     },
     "metadata": {},
     "output_type": "display_data"
    }
   ],
   "source": [
    "# Check your answer (Run this code cell to receive credit!)\n",
    "step_3.b.check()"
   ]
  },
  {
   "cell_type": "code",
   "execution_count": 17,
   "id": "96627726",
   "metadata": {
    "execution": {
     "iopub.execute_input": "2022-06-12T20:07:24.768840Z",
     "iopub.status.busy": "2022-06-12T20:07:24.768365Z",
     "iopub.status.idle": "2022-06-12T20:07:24.773250Z",
     "shell.execute_reply": "2022-06-12T20:07:24.772067Z"
    },
    "papermill": {
     "duration": 0.020666,
     "end_time": "2022-06-12T20:07:24.775288",
     "exception": false,
     "start_time": "2022-06-12T20:07:24.754622",
     "status": "completed"
    },
    "tags": []
   },
   "outputs": [],
   "source": [
    "#step_3.b.hint()"
   ]
  },
  {
   "cell_type": "markdown",
   "id": "68478151",
   "metadata": {
    "papermill": {
     "duration": 0.013058,
     "end_time": "2022-06-12T20:07:24.802346",
     "exception": false,
     "start_time": "2022-06-12T20:07:24.789288",
     "status": "completed"
    },
    "tags": []
   },
   "source": [
    "# Step 4: Generate test predictions\n",
    "\n",
    "In this final step, you'll use any approach of your choosing to deal with missing values.  Once you've preprocessed the training and validation features, you'll train and evaluate a random forest model.  Then, you'll preprocess the test data before generating predictions that can be submitted to the competition!\n",
    "\n",
    "### Part A\n",
    "\n",
    "Use the next code cell to preprocess the training and validation data.  Set the preprocessed DataFrames to `final_X_train` and `final_X_valid`.  **You can use any approach of your choosing here!**  in order for this step to be marked as correct, you need only ensure:\n",
    "- the preprocessed DataFrames have the same number of columns,\n",
    "- the preprocessed DataFrames have no missing values, \n",
    "- `final_X_train` and `y_train` have the same number of rows, and\n",
    "- `final_X_valid` and `y_valid` have the same number of rows."
   ]
  },
  {
   "cell_type": "code",
   "execution_count": 18,
   "id": "dbc38824",
   "metadata": {
    "execution": {
     "iopub.execute_input": "2022-06-12T20:07:24.829896Z",
     "iopub.status.busy": "2022-06-12T20:07:24.829413Z",
     "iopub.status.idle": "2022-06-12T20:07:24.861761Z",
     "shell.execute_reply": "2022-06-12T20:07:24.860023Z"
    },
    "papermill": {
     "duration": 0.049369,
     "end_time": "2022-06-12T20:07:24.863988",
     "exception": false,
     "start_time": "2022-06-12T20:07:24.814619",
     "status": "completed"
    },
    "tags": []
   },
   "outputs": [
    {
     "data": {
      "application/javascript": [
       "parent.postMessage({\"jupyterEvent\": \"custom.exercise_interaction\", \"data\": {\"outcomeType\": 1, \"valueTowardsCompletion\": 1.0, \"interactionType\": 1, \"questionType\": 2, \"questionId\": \"4.1_PredsCodeA\", \"learnToolsVersion\": \"0.3.4\", \"failureMessage\": \"\", \"exceptionClass\": \"\", \"trace\": \"\"}}, \"*\")"
      ],
      "text/plain": [
       "<IPython.core.display.Javascript object>"
      ]
     },
     "metadata": {},
     "output_type": "display_data"
    },
    {
     "data": {
      "text/markdown": [
       "<span style=\"color:#33cc33\">Correct</span>"
      ],
      "text/plain": [
       "Correct"
      ]
     },
     "metadata": {},
     "output_type": "display_data"
    }
   ],
   "source": [
    "# Preprocessed training and validation features\n",
    "final_X_train = pd.DataFrame(my_imputer.fit_transform(X_train))\n",
    "final_X_valid = pd.DataFrame(my_imputer.transform(X_valid))\n",
    "\n",
    "# Check your answers\n",
    "step_4.a.check()"
   ]
  },
  {
   "cell_type": "code",
   "execution_count": 19,
   "id": "98d770ea",
   "metadata": {
    "execution": {
     "iopub.execute_input": "2022-06-12T20:07:24.893102Z",
     "iopub.status.busy": "2022-06-12T20:07:24.891960Z",
     "iopub.status.idle": "2022-06-12T20:07:24.896257Z",
     "shell.execute_reply": "2022-06-12T20:07:24.895501Z"
    },
    "papermill": {
     "duration": 0.020965,
     "end_time": "2022-06-12T20:07:24.898327",
     "exception": false,
     "start_time": "2022-06-12T20:07:24.877362",
     "status": "completed"
    },
    "tags": []
   },
   "outputs": [],
   "source": [
    "# Lines below will give you a hint or solution code\n",
    "#step_4.a.hint()\n",
    "#step_4.a.solution()"
   ]
  },
  {
   "cell_type": "markdown",
   "id": "0ca9cebe",
   "metadata": {
    "papermill": {
     "duration": 0.012063,
     "end_time": "2022-06-12T20:07:24.923003",
     "exception": false,
     "start_time": "2022-06-12T20:07:24.910940",
     "status": "completed"
    },
    "tags": []
   },
   "source": [
    "Run the next code cell to train and evaluate a random forest model.  (*Note that we don't use the `score_dataset()` function above, because we will soon use the trained model to generate test predictions!*)"
   ]
  },
  {
   "cell_type": "code",
   "execution_count": 20,
   "id": "a5c3b4be",
   "metadata": {
    "execution": {
     "iopub.execute_input": "2022-06-12T20:07:24.950958Z",
     "iopub.status.busy": "2022-06-12T20:07:24.950324Z",
     "iopub.status.idle": "2022-06-12T20:07:26.208727Z",
     "shell.execute_reply": "2022-06-12T20:07:26.207433Z"
    },
    "papermill": {
     "duration": 1.275815,
     "end_time": "2022-06-12T20:07:26.211414",
     "exception": false,
     "start_time": "2022-06-12T20:07:24.935599",
     "status": "completed"
    },
    "tags": []
   },
   "outputs": [
    {
     "name": "stdout",
     "output_type": "stream",
     "text": [
      "MAE (Your approach):\n",
      "18062.894611872147\n"
     ]
    }
   ],
   "source": [
    "# Define and fit model\n",
    "model = RandomForestRegressor(n_estimators=100, random_state=0)\n",
    "model.fit(final_X_train, y_train)\n",
    "\n",
    "# Get validation predictions and MAE\n",
    "preds_valid = model.predict(final_X_valid)\n",
    "print(\"MAE (Your approach):\")\n",
    "print(mean_absolute_error(y_valid, preds_valid))"
   ]
  },
  {
   "cell_type": "markdown",
   "id": "aff1116d",
   "metadata": {
    "papermill": {
     "duration": 0.012163,
     "end_time": "2022-06-12T20:07:26.236290",
     "exception": false,
     "start_time": "2022-06-12T20:07:26.224127",
     "status": "completed"
    },
    "tags": []
   },
   "source": [
    "### Part B\n",
    "\n",
    "Use the next code cell to preprocess your test data.  Make sure that you use a method that agrees with how you preprocessed the training and validation data, and set the preprocessed test features to `final_X_test`.\n",
    "\n",
    "Then, use the preprocessed test features and the trained model to generate test predictions in `preds_test`.\n",
    "\n",
    "In order for this step to be marked correct, you need only ensure:\n",
    "- the preprocessed test DataFrame has no missing values, and\n",
    "- `final_X_test` has the same number of rows as `X_test`."
   ]
  },
  {
   "cell_type": "code",
   "execution_count": 21,
   "id": "008df9b0",
   "metadata": {
    "execution": {
     "iopub.execute_input": "2022-06-12T20:07:26.264263Z",
     "iopub.status.busy": "2022-06-12T20:07:26.262828Z",
     "iopub.status.idle": "2022-06-12T20:07:26.321711Z",
     "shell.execute_reply": "2022-06-12T20:07:26.320644Z"
    },
    "papermill": {
     "duration": 0.075069,
     "end_time": "2022-06-12T20:07:26.323846",
     "exception": false,
     "start_time": "2022-06-12T20:07:26.248777",
     "status": "completed"
    },
    "tags": []
   },
   "outputs": [
    {
     "data": {
      "application/javascript": [
       "parent.postMessage({\"jupyterEvent\": \"custom.exercise_interaction\", \"data\": {\"outcomeType\": 1, \"valueTowardsCompletion\": 1.0, \"interactionType\": 1, \"questionType\": 2, \"questionId\": \"4.2_PredsCodeB\", \"learnToolsVersion\": \"0.3.4\", \"failureMessage\": \"\", \"exceptionClass\": \"\", \"trace\": \"\"}}, \"*\")"
      ],
      "text/plain": [
       "<IPython.core.display.Javascript object>"
      ]
     },
     "metadata": {},
     "output_type": "display_data"
    },
    {
     "data": {
      "text/markdown": [
       "<span style=\"color:#33cc33\">Correct</span>"
      ],
      "text/plain": [
       "Correct"
      ]
     },
     "metadata": {},
     "output_type": "display_data"
    }
   ],
   "source": [
    "# Fill in the line below: preprocess test data\n",
    "final_X_test = pd.DataFrame(my_imputer.transform(X_test))\n",
    "\n",
    "# Fill in the line below: get test predictions\n",
    "preds_test = model.predict(final_X_test)\n",
    "\n",
    "# Check your answers\n",
    "step_4.b.check()"
   ]
  },
  {
   "cell_type": "code",
   "execution_count": 22,
   "id": "4743aa5f",
   "metadata": {
    "execution": {
     "iopub.execute_input": "2022-06-12T20:07:26.351786Z",
     "iopub.status.busy": "2022-06-12T20:07:26.350819Z",
     "iopub.status.idle": "2022-06-12T20:07:26.355614Z",
     "shell.execute_reply": "2022-06-12T20:07:26.354614Z"
    },
    "papermill": {
     "duration": 0.021001,
     "end_time": "2022-06-12T20:07:26.357584",
     "exception": false,
     "start_time": "2022-06-12T20:07:26.336583",
     "status": "completed"
    },
    "tags": []
   },
   "outputs": [],
   "source": [
    "# Lines below will give you a hint or solution code\n",
    "#step_4.b.hint()\n",
    "#step_4.b.solution()"
   ]
  },
  {
   "cell_type": "markdown",
   "id": "66e9a55c",
   "metadata": {
    "papermill": {
     "duration": 0.012622,
     "end_time": "2022-06-12T20:07:26.383493",
     "exception": false,
     "start_time": "2022-06-12T20:07:26.370871",
     "status": "completed"
    },
    "tags": []
   },
   "source": [
    "Run the next code cell without changes to save your results to a CSV file that can be submitted directly to the competition."
   ]
  },
  {
   "cell_type": "code",
   "execution_count": 23,
   "id": "94fdb7de",
   "metadata": {
    "execution": {
     "iopub.execute_input": "2022-06-12T20:07:26.411673Z",
     "iopub.status.busy": "2022-06-12T20:07:26.410747Z",
     "iopub.status.idle": "2022-06-12T20:07:26.424629Z",
     "shell.execute_reply": "2022-06-12T20:07:26.423415Z"
    },
    "papermill": {
     "duration": 0.030532,
     "end_time": "2022-06-12T20:07:26.426912",
     "exception": false,
     "start_time": "2022-06-12T20:07:26.396380",
     "status": "completed"
    },
    "tags": []
   },
   "outputs": [],
   "source": [
    "# Save test predictions to file\n",
    "output = pd.DataFrame({'Id': X_test.index,\n",
    "                       'SalePrice': preds_test})\n",
    "output.to_csv('submission.csv', index=False)"
   ]
  },
  {
   "cell_type": "markdown",
   "id": "04631e95",
   "metadata": {
    "papermill": {
     "duration": 0.012637,
     "end_time": "2022-06-12T20:07:26.452503",
     "exception": false,
     "start_time": "2022-06-12T20:07:26.439866",
     "status": "completed"
    },
    "tags": []
   },
   "source": [
    "# Submit your results\n",
    "\n",
    "Once you have successfully completed Step 4, you're ready to submit your results to the leaderboard!  (_You also learned how to do this in the previous exercise.  If you need a reminder of how to do this, please use the instructions below._)  \n",
    "\n",
    "First, you'll need to join the competition if you haven't already.  So open a new window by clicking on [this link](https://www.kaggle.com/c/home-data-for-ml-course).  Then click on the **Join Competition** button.\n",
    "\n",
    "![join competition image](https://i.imgur.com/wLmFtH3.png)\n",
    "\n",
    "Next, follow the instructions below:\n",
    "1. Begin by clicking on the **Save Version** button in the top right corner of the window.  This will generate a pop-up window.  \n",
    "2. Ensure that the **Save and Run All** option is selected, and then click on the **Save** button.\n",
    "3. This generates a window in the bottom left corner of the notebook.  After it has finished running, click on the number to the right of the **Save Version** button.  This pulls up a list of versions on the right of the screen.  Click on the ellipsis **(...)** to the right of the most recent version, and select **Open in Viewer**.  This brings you into view mode of the same page. You will need to scroll down to get back to these instructions.\n",
    "4. Click on the **Output** tab on the right of the screen.  Then, click on the file you would like to submit, and click on the **Submit** button to submit your results to the leaderboard.\n",
    "\n",
    "You have now successfully submitted to the competition!\n",
    "\n",
    "If you want to keep working to improve your performance, select the **Edit** button in the top right of the screen. Then you can change your code and repeat the process. There's a lot of room to improve, and you will climb up the leaderboard as you work.\n",
    "\n",
    "\n",
    "# Keep going\n",
    "\n",
    "Move on to learn what **[categorical variables](https://www.kaggle.com/alexisbcook/categorical-variables)** are, along with how to incorporate them into your machine learning models.  Categorical variables are very common in real-world data, but you'll get an error if you try to plug them into your models without processing them first!"
   ]
  },
  {
   "cell_type": "markdown",
   "id": "7e74b132",
   "metadata": {
    "papermill": {
     "duration": 0.012976,
     "end_time": "2022-06-12T20:07:26.478384",
     "exception": false,
     "start_time": "2022-06-12T20:07:26.465408",
     "status": "completed"
    },
    "tags": []
   },
   "source": [
    "---\n",
    "\n",
    "\n",
    "\n",
    "\n",
    "*Have questions or comments? Visit the [course discussion forum](https://www.kaggle.com/learn/intermediate-machine-learning/discussion) to chat with other learners.*"
   ]
  }
 ],
 "metadata": {
  "kernelspec": {
   "display_name": "Python 3",
   "language": "python",
   "name": "python3"
  },
  "language_info": {
   "codemirror_mode": {
    "name": "ipython",
    "version": 3
   },
   "file_extension": ".py",
   "mimetype": "text/x-python",
   "name": "python",
   "nbconvert_exporter": "python",
   "pygments_lexer": "ipython3",
   "version": "3.7.12"
  },
  "papermill": {
   "default_parameters": {},
   "duration": 19.20642,
   "end_time": "2022-06-12T20:07:27.516169",
   "environment_variables": {},
   "exception": null,
   "input_path": "__notebook__.ipynb",
   "output_path": "__notebook__.ipynb",
   "parameters": {},
   "start_time": "2022-06-12T20:07:08.309749",
   "version": "2.3.4"
  }
 },
 "nbformat": 4,
 "nbformat_minor": 5
}
